{
 "cells": [
  {
   "cell_type": "code",
   "execution_count": 31,
   "metadata": {},
   "outputs": [],
   "source": [
    "use_percent = True\n",
    "use_avg = True\n",
    "\n",
    "########################### 2023-01-20 ###########################\n",
    "data_dir = \"/home/derposoft/Documents/tb_logs/tb_logs_flairs\"\n",
    "data_lines_baseline_v_gcn_2hp = {\n",
    "    \"baseline_2hp_NOOPT_SEED\": \"#000000\",\n",
    "    \"hybridGCN_2hp_localemb_NOOPT_SEED\": \"#808080\",\n",
    "}\n",
    "data_lines_baseline_v_gcn_5hp = {\n",
    "    \"baseline_5hp_NOOPT_SEED\": \"#000000\",\n",
    "    \"hybridGCN_5hp_localemb_NOOPT_SEED\": \"#808080\",\n",
    "}\n",
    "data_lines_baseline_v_gcn_20hp = {\n",
    "    \"baseline_20hp_NOOPT_SEED\": \"#000000\",\n",
    "    \"hybridGCN_20hp_localemb_NOOPT_SEED\": \"#808080\",\n",
    "}\n",
    "\n",
    "experiments = data_lines_baseline_v_gcn_5hp"
   ]
  },
  {
   "cell_type": "code",
   "execution_count": 32,
   "metadata": {
    "scrolled": true
   },
   "outputs": [
    {
     "name": "stdout",
     "output_type": "stream",
     "text": [
      "\n"
     ]
    }
   ],
   "source": [
    "import pandas as pd\n",
    "import numpy as np\n",
    "import os\n",
    "ospj = os.path.join\n",
    "osl = os.listdir\n",
    "\n",
    "time_column = \"num_agent_steps_trained\"\n",
    "data_column = \"evaluation/episode_reward_mean\"\n",
    "_labels = {\n",
    "    \"baseline_2hp_NOOPT_SEED\": \"Baseline@2HP\",\n",
    "    \"hybridGCN_2hp_localemb_NOOPT_SEED\": \"GCN@2HP\",\n",
    "\n",
    "    \"baseline_5hp_NOOPT_SEED\": \"Baseline@5HP\",\n",
    "    \"hybridGCN_5hp_localemb_NOOPT_SEED\": \"GCN@5HP\",\n",
    "    \n",
    "    \"baseline_20hp_NOOPT_SEED\": \"Baseline@20HP\",\n",
    "    \"hybridGCN_20hp_localemb_NOOPT_SEED\": \"GCN@20HP\",\n",
    "}\n",
    "labels = [\n",
    "    _labels[path] for path in experiments\n",
    "]\n",
    "experiment_folders = {\n",
    "    experiment_filter: [x for x in osl(data_dir) if experiment_filter in x]\n",
    "    for experiment_filter in experiments \n",
    "}\n",
    "data = {\n",
    "    experiment_filter: [\n",
    "        pd.read_csv(ospj(ospj(data_dir, run_path), \"progress.csv\"))\n",
    "        for run_path in experiment_folders[experiment_filter]\n",
    "    ]\n",
    "    for experiment_filter in experiment_folders\n",
    "}\n",
    "\"\"\"\n",
    "point_at_40k = [\n",
    "    d[data_column][d.shape[0]-1] for d in data\n",
    "]\n",
    "print(dict(zip(labels, point_at_40k)))\n",
    "for i in range(len(labels)):\n",
    "    if \"baseline\" in labels[i]:\n",
    "        results = []\n",
    "        for label, point in zip(labels, point_at_40k):\n",
    "            if \"baseline\" not in label:\n",
    "                results.append(f\"{label} is {100*(point-point_at_40k[i])/point_at_40k[i]:.4}% ahead of baseline\")\n",
    "        for result in results:\n",
    "            print(result)\n",
    "        break\n",
    "\"\"\"\n",
    "print()"
   ]
  },
  {
   "cell_type": "code",
   "execution_count": 33,
   "metadata": {},
   "outputs": [
    {
     "data": {
      "image/png": "[encoded data removed]",
      "text/plain": [
       "<Figure size 720x288 with 1 Axes>"
      ]
     },
     "metadata": {
      "needs_background": "light"
     },
     "output_type": "display_data"
    }
   ],
   "source": [
    "import matplotlib as mpl\n",
    "import matplotlib.pyplot as plt\n",
    "from matplotlib.ticker import MultipleLocator,FormatStrFormatter,MaxNLocator\n",
    "import numpy as np\n",
    "\n",
    "mpl.rcParams['pdf.fonttype'] = 42\n",
    "mpl.rcParams['ps.fonttype'] = 42\n",
    "mpl.rcParams['font.family'] = 'Arial'\n",
    "\n",
    "mpl.rcParams['lines.marker']  #None\n",
    "mpl.rcParams['lines.markersize']  #6.0\n",
    "mpl.rcParams['lines.linewidth']   # 1.5\n",
    "mpl.rcParams['axes.prop_cycle']\n",
    "\n",
    "mpl.colors.to_rgb('#1f77b4')\n",
    "\n",
    "fig = plt.figure(figsize=(10, 4))\n",
    "ax = fig.add_axes([0.1, 0.1, 0.5, 0.8])\n",
    "\n",
    "def get_avg_line(data, experiment_filter):\n",
    "    return np.average(\n",
    "        [run[data_column].values for run in data[experiment_filter]],\n",
    "        axis=0,\n",
    "    )\n",
    "\n",
    "\n",
    "lines = []\n",
    "handles = []\n",
    "for experiment_filter in data:\n",
    "    baseline_data = get_avg_line(data, list(experiments.keys())[0])\n",
    "    if use_avg:\n",
    "        run = data[experiment_filter][0]\n",
    "        avg_data_line = get_avg_line(data, experiment_filter)\n",
    "        if use_percent:\n",
    "            avg_data_line /= baseline_data\n",
    "        lines.append(\n",
    "            ax.plot(\n",
    "                run[[x for x in run.columns if \"timestep\" in x][0]].values,\n",
    "                avg_data_line,\n",
    "                marker='',\n",
    "                color=experiments[experiment_filter]\n",
    "            )\n",
    "        )\n",
    "    else:\n",
    "        for run in data[experiment_filter]:\n",
    "            data_line = run[[x for x in run.columns if \"timestep\" in x][0]].values\n",
    "            #if use_percent:\n",
    "            #    data_line /= baseline_data\n",
    "            lines.append(\n",
    "                ax.plot(\n",
    "                    data_line,\n",
    "                    run[data_column].values,\n",
    "                    marker='',\n",
    "                    color=experiments[experiment_filter]\n",
    "                )\n",
    "            )\n",
    "    handles.append(lines[-1][0])\n",
    "\n",
    "ax.legend(\n",
    "    handles=handles,\n",
    "    labels=labels,\n",
    "    loc='upper left',\n",
    "    bbox_to_anchor=(1, 1),\n",
    "    title='Legend',\n",
    "    frameon=False,\n",
    ")\n",
    "#plt.ylim((0, 70))\n",
    "plt.show()"
   ]
  },
  {
   "cell_type": "code",
   "execution_count": null,
   "metadata": {},
   "outputs": [],
   "source": []
  }
 ],
 "metadata": {
  "kernelspec": {
   "display_name": "ict",
   "language": "python",
   "name": "python3"
  },
  "language_info": {
   "codemirror_mode": {
    "name": "ipython",
    "version": 3
   },
   "file_extension": ".py",
   "mimetype": "text/x-python",
   "name": "python",
   "nbconvert_exporter": "python",
   "pygments_lexer": "ipython3",
   "version": "3.9.13"
  },
  "vscode": {
   "interpreter": {
    "hash": "55c685f8cf5c890b69147c020cec2e2dc7dfd76edeb06885af029168509bee56"
   }
  }
 },
 "nbformat": 4,
 "nbformat_minor": 2
}
